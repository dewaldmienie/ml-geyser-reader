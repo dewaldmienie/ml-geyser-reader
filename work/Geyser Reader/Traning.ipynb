{
 "cells": [
  {
   "cell_type": "code",
   "execution_count": 1,
   "id": "190a6c4b-4d61-4417-ab13-eb5d6fff701d",
   "metadata": {},
   "outputs": [],
   "source": [
    "from sklearn.datasets import load_digits\n",
    "from sklearn.linear_model import Perceptron\n",
    "import os\n",
    "import numpy as np \n",
    "import matplotlib.pyplot as plt\n",
    "import shutil\n",
    "from joblib import dump, load\n"
   ]
  },
  {
   "cell_type": "code",
   "execution_count": 2,
   "id": "904f963b-2222-4f94-a9ca-b67e5f4a543e",
   "metadata": {},
   "outputs": [],
   "source": [
    "# Specify the directory path\n",
    "directory_path = './training/'\n",
    "\n",
    "# List all files in the directory\n",
    "digits = os.listdir(directory_path)\n",
    "\n",
    "y = np.empty((0,0))\n",
    "X = None"
   ]
  },
  {
   "cell_type": "code",
   "execution_count": 3,
   "id": "f6508d54-16f4-4a14-bc93-660a667e7f88",
   "metadata": {},
   "outputs": [],
   "source": [
    "def loadImage(imageFileName):\n",
    "    image = plt.imread(imageFileName)\n",
    "\n",
    "    image = image[:,:,0]\n",
    "    return np.resize(image,(1, image.size))"
   ]
  },
  {
   "cell_type": "code",
   "execution_count": 4,
   "id": "a7ea5d8c-ac88-45a0-a245-5177a3e69e63",
   "metadata": {},
   "outputs": [],
   "source": [
    "for digit in digits:\n",
    "    imageFiles = os.listdir(directory_path + digit)\n",
    "\n",
    "    for imageFile in imageFiles:\n",
    "        imageFileName = directory_path + digit + '/' + imageFile\n",
    "     \n",
    "        y = np.append(y, digit)  \n",
    "\n",
    "        image = loadImage(imageFileName)\n",
    "\n",
    "        if (X is None):\n",
    "            X = image\n",
    "        else:\n",
    "            X = np.append(X, image, axis=0)  "
   ]
  },
  {
   "cell_type": "code",
   "execution_count": 5,
   "id": "0924e9ce-470d-49cf-8eff-f1f651b5b965",
   "metadata": {},
   "outputs": [
    {
     "data": {
      "text/plain": [
       "array(['0', '0', '0', ..., '9', '9', '9'], dtype='<U32')"
      ]
     },
     "execution_count": 5,
     "metadata": {},
     "output_type": "execute_result"
    }
   ],
   "source": [
    "y"
   ]
  },
  {
   "cell_type": "code",
   "execution_count": 6,
   "id": "3431e852-206e-4ed0-bc3c-217d06c05da8",
   "metadata": {},
   "outputs": [
    {
     "data": {
      "text/plain": [
       "array([[0.1764706 , 0.35686275, 0.85490197, ..., 0.7921569 , 0.2509804 ,\n",
       "        0.14117648],\n",
       "       [0.10980392, 0.2784314 , 0.8666667 , ..., 0.7372549 , 0.26666668,\n",
       "        0.13333334],\n",
       "       [0.10196079, 0.22352941, 0.8039216 , ..., 0.7372549 , 0.10588235,\n",
       "        0.09803922],\n",
       "       ...,\n",
       "       [0.9372549 , 0.96862745, 0.972549  , ..., 0.41568628, 0.22352941,\n",
       "        0.16470589],\n",
       "       [0.67058825, 0.95686275, 0.972549  , ..., 0.11764706, 0.10588235,\n",
       "        0.08235294],\n",
       "       [0.3019608 , 0.5764706 , 0.84313726, ..., 0.02352941, 0.08627451,\n",
       "        0.07058824]], dtype=float32)"
      ]
     },
     "execution_count": 6,
     "metadata": {},
     "output_type": "execute_result"
    }
   ],
   "source": [
    "X"
   ]
  },
  {
   "attachments": {
    "5749c8a7-a4e5-475b-b492-c1eb79b49119.png": {
     "image/png": "[encoded data removed]"
    }
   },
   "cell_type": "markdown",
   "id": "287c6829-734e-48b2-b9d7-2fb41c94705b",
   "metadata": {},
   "source": [
    "![image.png](attachment:5749c8a7-a4e5-475b-b492-c1eb79b49119.png)"
   ]
  },
  {
   "cell_type": "code",
   "execution_count": null,
   "id": "043e42b0-a129-47f1-b417-80432b87072e",
   "metadata": {},
   "outputs": [],
   "source": [
    "clf = Perceptron(tol=1e-3, random_state=0)\n",
    "clf.fit(X, y)"
   ]
  },
  {
   "cell_type": "code",
   "execution_count": null,
   "id": "026d4da9-6223-42f0-810e-b79bb669f601",
   "metadata": {},
   "outputs": [],
   "source": [
    "dump(clf, 'Perceptron.joblib') "
   ]
  },
  {
   "cell_type": "code",
   "execution_count": null,
   "id": "3a41deda-8e56-4e62-b180-0868dfcce8a4",
   "metadata": {},
   "outputs": [],
   "source": []
  }
 ],
 "metadata": {
  "kernelspec": {
   "display_name": "Python 3 (ipykernel)",
   "language": "python",
   "name": "python3"
  },
  "language_info": {
   "codemirror_mode": {
    "name": "ipython",
    "version": 3
   },
   "file_extension": ".py",
   "mimetype": "text/x-python",
   "name": "python",
   "nbconvert_exporter": "python",
   "pygments_lexer": "ipython3",
   "version": "3.11.6"
  }
 },
 "nbformat": 4,
 "nbformat_minor": 5
}
